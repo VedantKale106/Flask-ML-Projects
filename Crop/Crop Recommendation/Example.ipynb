{
 "cells": [
  {
   "cell_type": "code",
   "execution_count": 5,
   "id": "aa43ca2b-6424-4b53-b6fe-f770d3ffb723",
   "metadata": {},
   "outputs": [
    {
     "ename": "AttributeError",
     "evalue": "'LabelEncoder' object has no attribute 'classes_'",
     "output_type": "error",
     "traceback": [
      "\u001b[1;31m---------------------------------------------------------------------------\u001b[0m",
      "\u001b[1;31mAttributeError\u001b[0m                            Traceback (most recent call last)",
      "Cell \u001b[1;32mIn[5], line 32\u001b[0m\n\u001b[0;32m     30\u001b[0m \u001b[38;5;66;03m# Encode the new input using the same label encoders\u001b[39;00m\n\u001b[0;32m     31\u001b[0m \u001b[38;5;28;01mfor\u001b[39;00m col, le \u001b[38;5;129;01min\u001b[39;00m label_encoders\u001b[38;5;241m.\u001b[39mitems():\n\u001b[1;32m---> 32\u001b[0m     \u001b[38;5;28;01mif\u001b[39;00m new_input_df[col]\u001b[38;5;241m.\u001b[39miloc[\u001b[38;5;241m0\u001b[39m] \u001b[38;5;129;01mnot\u001b[39;00m \u001b[38;5;129;01min\u001b[39;00m le\u001b[38;5;241m.\u001b[39mclasses_:\n\u001b[0;32m     33\u001b[0m         \u001b[38;5;28;01mraise\u001b[39;00m \u001b[38;5;167;01mValueError\u001b[39;00m(\u001b[38;5;124mf\u001b[39m\u001b[38;5;124m\"\u001b[39m\u001b[38;5;124mUnexpected value \u001b[39m\u001b[38;5;124m'\u001b[39m\u001b[38;5;132;01m{\u001b[39;00mnew_input_df[col]\u001b[38;5;241m.\u001b[39miloc[\u001b[38;5;241m0\u001b[39m]\u001b[38;5;132;01m}\u001b[39;00m\u001b[38;5;124m'\u001b[39m\u001b[38;5;124m for column \u001b[39m\u001b[38;5;124m'\u001b[39m\u001b[38;5;132;01m{\u001b[39;00mcol\u001b[38;5;132;01m}\u001b[39;00m\u001b[38;5;124m'\u001b[39m\u001b[38;5;124m\"\u001b[39m)\n\u001b[0;32m     34\u001b[0m     new_input_df[col] \u001b[38;5;241m=\u001b[39m le\u001b[38;5;241m.\u001b[39mtransform(new_input_df[col])\n",
      "\u001b[1;31mAttributeError\u001b[0m: 'LabelEncoder' object has no attribute 'classes_'"
     ]
    }
   ],
   "source": [
    "import pandas as pd\n",
    "import numpy as np\n",
    "import pickle\n",
    "\n",
    "# Load the saved model and encoders\n",
    "with open('crop_recommendation_model.pkl', 'rb') as f:\n",
    "    model = pickle.load(f)\n",
    "\n",
    "with open('label_encoders.pkl', 'rb') as f:\n",
    "    encoders = pickle.load(f)\n",
    "\n",
    "label_encoders = encoders['label_encoders']\n",
    "crop_encoder = encoders['crop_encoder']\n",
    "\n",
    "# Define the new input example\n",
    "new_input = {\n",
    "    'is_rain_falling': 'Yes',\n",
    "    'is_drought': 'No',\n",
    "    'political_issues': 'None',\n",
    "    'soil_moisture': 'High',\n",
    "    'market_demand': 'High',\n",
    "    'soil_type': 'Loamy',\n",
    "    'pest_infestation': 'None',\n",
    "    'season': 'Summer'\n",
    "}\n",
    "\n",
    "# Convert new input to DataFrame\n",
    "new_input_df = pd.DataFrame([new_input])\n",
    "\n",
    "# Encode the new input using the same label encoders\n",
    "for col, le in label_encoders.items():\n",
    "    if new_input_df[col].iloc[0] not in le.classes_:\n",
    "        raise ValueError(f\"Unexpected value '{new_input_df[col].iloc[0]}' for column '{col}'\")\n",
    "    new_input_df[col] = le.transform(new_input_df[col])\n",
    "\n",
    "# Predict with the model\n",
    "new_input_encoded = new_input_df.values\n",
    "prediction = model.predict(new_input_encoded)\n",
    "predicted_crop = crop_encoder.inverse_transform(prediction)\n",
    "\n",
    "print(f\"Predicted crop for the input example: {predicted_crop[0]}\")\n"
   ]
  },
  {
   "cell_type": "code",
   "execution_count": null,
   "id": "d8163ffc-4a36-461e-ba2c-fdcf87ba747b",
   "metadata": {},
   "outputs": [],
   "source": []
  }
 ],
 "metadata": {
  "kernelspec": {
   "display_name": "Python 3 (ipykernel)",
   "language": "python",
   "name": "python3"
  },
  "language_info": {
   "codemirror_mode": {
    "name": "ipython",
    "version": 3
   },
   "file_extension": ".py",
   "mimetype": "text/x-python",
   "name": "python",
   "nbconvert_exporter": "python",
   "pygments_lexer": "ipython3",
   "version": "3.12.4"
  }
 },
 "nbformat": 4,
 "nbformat_minor": 5
}

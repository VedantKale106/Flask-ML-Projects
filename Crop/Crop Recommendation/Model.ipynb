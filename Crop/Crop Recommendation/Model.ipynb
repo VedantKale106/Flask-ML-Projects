{
 "cells": [
  {
   "cell_type": "code",
   "execution_count": 23,
   "id": "18e99b0c-a673-406f-bbab-20b2615b657e",
   "metadata": {},
   "outputs": [
    {
     "name": "stdout",
     "output_type": "stream",
     "text": [
      "Model and encoders have been saved successfully.\n"
     ]
    }
   ],
   "source": [
    "import pickle\n",
    "from sklearn.neighbors import KNeighborsClassifier\n",
    "from sklearn.preprocessing import LabelEncoder\n",
    "\n",
    "# Sample code to train a model (replace with your actual model training code)\n",
    "# Initialize label encoders and model\n",
    "label_encoders = {\n",
    "    'is_rain_falling': LabelEncoder(),\n",
    "    'is_drought': LabelEncoder(),\n",
    "    'political_issues': LabelEncoder(),\n",
    "    'soil_moisture': LabelEncoder(),\n",
    "    'market_demand': LabelEncoder(),\n",
    "    'soil_type': LabelEncoder(),\n",
    "    'pest_infestation': LabelEncoder(),\n",
    "    'season': LabelEncoder()\n",
    "}\n",
    "\n",
    "# Assume these encoders are already fitted with training data\n",
    "\n",
    "# Example KNN model (replace with your actual model)\n",
    "model = KNeighborsClassifier(n_neighbors=5, metric='cosine')\n",
    "\n",
    "# Dummy data and training (replace with actual data and training process)\n",
    "import numpy as np\n",
    "X_train = np.random.rand(100, 8)  # Replace with your training features\n",
    "y_train = np.random.randint(0, 3, size=100)  # Replace with your training labels\n",
    "model.fit(X_train, y_train)\n",
    "\n",
    "# Encode the target variable 'crop'\n",
    "crop_encoder = LabelEncoder()\n",
    "crop_encoder.fit(y_train)  # Fit on the training labels\n",
    "\n",
    "# Save the model and encoders\n",
    "with open('crop_recommendation_model.pkl', 'wb') as f:\n",
    "    pickle.dump(model, f)\n",
    "\n",
    "with open('label_encoders.pkl', 'wb') as f:\n",
    "    pickle.dump({'label_encoders': label_encoders, 'crop_encoder': crop_encoder}, f)\n",
    "\n",
    "print(\"Model and encoders have been saved successfully.\")\n"
   ]
  },
  {
   "cell_type": "code",
   "execution_count": null,
   "id": "a9e546ba-4523-4196-b50e-708a10d140b7",
   "metadata": {},
   "outputs": [],
   "source": []
  }
 ],
 "metadata": {
  "kernelspec": {
   "display_name": "Python 3 (ipykernel)",
   "language": "python",
   "name": "python3"
  },
  "language_info": {
   "codemirror_mode": {
    "name": "ipython",
    "version": 3
   },
   "file_extension": ".py",
   "mimetype": "text/x-python",
   "name": "python",
   "nbconvert_exporter": "python",
   "pygments_lexer": "ipython3",
   "version": "3.12.4"
  }
 },
 "nbformat": 4,
 "nbformat_minor": 5
}

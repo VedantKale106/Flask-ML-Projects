{
 "cells": [
  {
   "cell_type": "code",
   "execution_count": 1,
   "id": "c7438f29-8ca5-4934-a922-ebae7e0233a8",
   "metadata": {},
   "outputs": [],
   "source": [
    "import pandas as pd\n",
    "from sklearn.preprocessing import LabelEncoder\n",
    "from sklearn.metrics.pairwise import cosine_similarity\n",
    "import numpy as np\n",
    "\n",
    "df = pd.read_csv('dataset.csv')\n",
    "\n",
    "df = df.drop(['pest_infestation', 'political_issues'], axis=1)\n"
   ]
  },
  {
   "cell_type": "code",
   "execution_count": 3,
   "id": "9b8b9278-7aa5-43c3-beff-72da54ce748a",
   "metadata": {},
   "outputs": [],
   "source": [
    "label_encoders = {}\n",
    "for column in df.columns:\n",
    "    if column != 'crop':\n",
    "        le = LabelEncoder()\n",
    "        df[column] = le.fit_transform(df[column])\n",
    "        label_encoders[column] = le\n",
    "\n",
    "crop_column = df['crop']\n",
    "df = df.drop('crop', axis=1)\n",
    "\n",
    "df['crop'] = crop_column\n",
    "\n",
    "data_array = df.drop('crop', axis=1).values\n",
    "crop_array = df['crop'].values\n"
   ]
  },
  {
   "cell_type": "code",
   "execution_count": 5,
   "id": "c462adc2-188d-4b07-8751-9c2328b0a392",
   "metadata": {},
   "outputs": [
    {
     "name": "stdout",
     "output_type": "stream",
     "text": [
      "The predicted crop is: Rice\n"
     ]
    }
   ],
   "source": [
    "input_data = {\n",
    "    'is_rain_falling': 'Yes',\n",
    "    'is_drought': 'No',\n",
    "    'soil_moisture': 'Low',\n",
    "    'market_demand': 'Medium',\n",
    "    'soil_type': 'Sandy',\n",
    "    'season': 'Kharif'\n",
    "}\n",
    "\n",
    "input_df = pd.DataFrame([input_data])\n",
    "\n",
    "for column in input_df.columns:\n",
    "    if column in label_encoders:\n",
    "        input_df[column] = label_encoders[column].transform(input_df[column])\n",
    "\n",
    "input_array = input_df.values\n",
    "\n",
    "# Calculate cosine similarity\n",
    "cosine_sim = cosine_similarity(input_array, data_array)\n",
    "\n",
    "most_similar_index = np.argmax(cosine_sim)\n",
    "\n",
    "predicted_crop = crop_array[most_similar_index]\n",
    "print(f\"The predicted crop is: {predicted_crop}\")\n"
   ]
  },
  {
   "cell_type": "code",
   "execution_count": null,
   "id": "40b535da-8f0d-456b-8710-246067b0915e",
   "metadata": {},
   "outputs": [],
   "source": []
  }
 ],
 "metadata": {
  "kernelspec": {
   "display_name": "Python 3 (ipykernel)",
   "language": "python",
   "name": "python3"
  },
  "language_info": {
   "codemirror_mode": {
    "name": "ipython",
    "version": 3
   },
   "file_extension": ".py",
   "mimetype": "text/x-python",
   "name": "python",
   "nbconvert_exporter": "python",
   "pygments_lexer": "ipython3",
   "version": "3.12.4"
  }
 },
 "nbformat": 4,
 "nbformat_minor": 5
}
